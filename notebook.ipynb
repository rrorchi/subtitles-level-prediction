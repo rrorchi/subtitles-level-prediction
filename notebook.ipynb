{
 "cells": [
  {
   "cell_type": "markdown",
   "id": "d4036b6f",
   "metadata": {},
   "source": [
    "# Определение уровня английского языка фильма"
   ]
  },
  {
   "cell_type": "markdown",
   "id": "6a184acf",
   "metadata": {},
   "source": [
    "Просмотр фильмов на оригинальном языке - это популярный и действенный метод прокачаться при изучении иностранных языков. Важно выбрать фильм, который подходит студенту по уровню сложности, т.е. чтобы студент понимал 50-70 % диалогов.    \n",
    "Уровень сложности фильма - это уровень понимания языка по шкале CEFR, от простого А1 уровня до продвинутого С2. Чтобы определить уровень, преподаватель должен посмотреть фильм и решить, какому уровню он соответствует, однако это требует больших временных затрат. Хорошо, что этот процесс можно автоматизировать с помощью моделей машинного обучения!\n",
    "\n",
    "Цель этого проекта - разработать ML решение для автоматического определения уровня сложности англоязычных фильмов.  "
   ]
  },
  {
   "cell_type": "code",
   "execution_count": 1,
   "id": "3562624d",
   "metadata": {},
   "outputs": [],
   "source": [
    "import pandas as pd\n",
    "import numpy as np\n",
    "from tqdm import tqdm\n",
    "import os, re, pysrt\n",
    "import plotly.express as px\n",
    "\n",
    "import nltk\n",
    "from nltk.stem import WordNetLemmatizer\n",
    "from nltk.corpus import stopwords, wordnet\n",
    "from nltk.tag import pos_tag\n",
    "\n",
    "from sklearn.feature_extraction.text import CountVectorizer, TfidfVectorizer\n",
    "\n",
    "from sklearn.model_selection import train_test_split, cross_validate, GridSearchCV\n",
    "from sklearn.metrics import ConfusionMatrixDisplay, confusion_matrix, accuracy_score\n",
    "\n",
    "from sklearn.ensemble import RandomForestClassifier\n",
    "from sklearn.multiclass import OneVsRestClassifier\n",
    "from sklearn.linear_model import SGDClassifier\n",
    "from sklearn.calibration import CalibratedClassifierCV\n",
    "\n",
    "import pickle"
   ]
  },
  {
   "cell_type": "markdown",
   "id": "982f28ab",
   "metadata": {},
   "source": [
    "Будем разделять субтитры на 4 уровня: A2, B1, B2 и C1."
   ]
  },
  {
   "cell_type": "code",
   "execution_count": 2,
   "id": "56e40c46",
   "metadata": {},
   "outputs": [],
   "source": [
    "CATS = ['A2', 'B1', 'B2', 'C1']"
   ]
  },
  {
   "cell_type": "markdown",
   "id": "a13020c8",
   "metadata": {},
   "source": [
    "## Загрузка и обработка данных"
   ]
  },
  {
   "cell_type": "markdown",
   "id": "9123dc1d",
   "metadata": {},
   "source": [
    "Для решения задачи даны более 300 субтитров, какие-то из них лежат в папках по уровням, какие-то размечены в файле `movies_labels.xls`.       \n",
    "Чтобы можно было анализировать текст субтитров, нужно их обработать: убрать лишние символы, слова, неимеющие смысла, и провести лемматизацию:"
   ]
  },
  {
   "cell_type": "code",
   "execution_count": 3,
   "id": "950fb145",
   "metadata": {},
   "outputs": [],
   "source": [
    "# функция для определения pos-тега слова\n",
    "def get_wordnet_pos(word):\n",
    "    tag = nltk.pos_tag([word])[0][1][0].upper()\n",
    "    tag_dict = {\"J\": wordnet.ADJ,\n",
    "                \"N\": wordnet.NOUN,\n",
    "                \"V\": wordnet.VERB,\n",
    "                \"R\": wordnet.ADV}\n",
    "    return tag_dict.get(tag, wordnet.NOUN)"
   ]
  },
  {
   "cell_type": "code",
   "execution_count": 4,
   "id": "e50dc7de",
   "metadata": {},
   "outputs": [],
   "source": [
    "lemmatizer = WordNetLemmatizer()\n",
    "# функция для удаления лишних символов, стоп-слов и лемматизации\n",
    "def sub_preprocess(s):\n",
    "    sub_prep = re.sub(r\"[\\d\\n]\", ' ', # удаляем цифры и пробелы\n",
    "                re.sub(\"[^a-z]\", ' ', # удаляем все знаки\n",
    "                    re.sub(r\"\\<[^<>]+\\>\", ' ', # удаляем все что в скобках\n",
    "                        re.sub(r\"\\([^()]+\\)\", ' ', s.lower()))))\n",
    "    sub_prep = re.findall(r'\\S+', sub_prep)\n",
    "    sub_prep = [lemmatizer.lemmatize(w, get_wordnet_pos(w)) for w in sub_prep]\n",
    "    sub_prep = ' '.join([word for word in sub_prep if word not in stopwords.words('english')])\n",
    "    return sub_prep"
   ]
  },
  {
   "cell_type": "markdown",
   "id": "8e82030d",
   "metadata": {},
   "source": [
    "Загрузим субтитры из папок:"
   ]
  },
  {
   "cell_type": "code",
   "execution_count": 5,
   "id": "a33323eb",
   "metadata": {},
   "outputs": [
    {
     "name": "stdout",
     "output_type": "stream",
     "text": [
      "A2\n"
     ]
    },
    {
     "name": "stderr",
     "output_type": "stream",
     "text": [
      "100%|████████████████████████████████████████████████████████████████████████████████████| 5/5 [00:14<00:00,  2.88s/it]\n"
     ]
    },
    {
     "name": "stdout",
     "output_type": "stream",
     "text": [
      "B1\n"
     ]
    },
    {
     "name": "stderr",
     "output_type": "stream",
     "text": [
      "100%|██████████████████████████████████████████████████████████████████████████████████| 17/17 [00:55<00:00,  3.25s/it]\n"
     ]
    },
    {
     "name": "stdout",
     "output_type": "stream",
     "text": [
      "B2\n"
     ]
    },
    {
     "name": "stderr",
     "output_type": "stream",
     "text": [
      "100%|████████████████████████████████████████████████████████████████████████████████| 107/107 [07:33<00:00,  4.23s/it]\n"
     ]
    },
    {
     "name": "stdout",
     "output_type": "stream",
     "text": [
      "C1\n"
     ]
    },
    {
     "name": "stderr",
     "output_type": "stream",
     "text": [
      "100%|██████████████████████████████████████████████████████████████████████████████████| 33/33 [01:13<00:00,  2.23s/it]\n"
     ]
    }
   ],
   "source": [
    "subs1 = []\n",
    "for cat in CATS:\n",
    "    print(cat)\n",
    "    for filename in tqdm(os.listdir(os.getcwd() + '/' + cat)):\n",
    "        file = os.getcwd() + '/' + cat + '/' + filename\n",
    "        sub = pysrt.open(file, encoding='iso-8859-1').text\n",
    "        sub = sub_preprocess(sub)\n",
    "        \n",
    "        subs1.append((sub, cat))"
   ]
  },
  {
   "cell_type": "code",
   "execution_count": 6,
   "id": "d6755eda",
   "metadata": {},
   "outputs": [],
   "source": [
    "subs_folders = pd.DataFrame(subs1, columns=['subtitle', 'level'])"
   ]
  },
  {
   "cell_type": "code",
   "execution_count": 7,
   "id": "76869788",
   "metadata": {},
   "outputs": [
    {
     "data": {
      "text/plain": [
       "B2    107\n",
       "C1     33\n",
       "B1     17\n",
       "A2      5\n",
       "Name: level, dtype: int64"
      ]
     },
     "execution_count": 7,
     "metadata": {},
     "output_type": "execute_result"
    }
   ],
   "source": [
    "subs_folders['level'].value_counts()"
   ]
  },
  {
   "cell_type": "markdown",
   "id": "6bf4cd77",
   "metadata": {},
   "source": [
    "Есть 107 субтитров уровня В2 и всего 5 уровня А2."
   ]
  },
  {
   "cell_type": "markdown",
   "id": "da0b4b4c",
   "metadata": {},
   "source": [
    "Загрузим размеченные субтитры, записанные в файл `movies_labels`."
   ]
  },
  {
   "cell_type": "code",
   "execution_count": 8,
   "id": "6602fdce",
   "metadata": {},
   "outputs": [
    {
     "data": {
      "text/plain": [
       "array(['B1', 'B2', 'A2/A2+', 'C1', 'B1, B2', 'A2/A2+, B1', 'A2'],\n",
       "      dtype=object)"
      ]
     },
     "execution_count": 8,
     "metadata": {},
     "output_type": "execute_result"
    }
   ],
   "source": [
    "data_x = pd.read_excel(os.getcwd() + '/' + 'movies_labels.xlsx')\n",
    "data_x['Level'].unique()"
   ]
  },
  {
   "cell_type": "markdown",
   "id": "be9ad2ea",
   "metadata": {},
   "source": [
    "Здесь разметка не такая четкая - некоторые фильмы отмечены несколькими уровнями. Заменим эти уровни:"
   ]
  },
  {
   "cell_type": "code",
   "execution_count": 9,
   "id": "239ef85f",
   "metadata": {},
   "outputs": [
    {
     "data": {
      "text/plain": [
       "array(['B1', 'B2', 'A2', 'C1'], dtype=object)"
      ]
     },
     "execution_count": 9,
     "metadata": {},
     "output_type": "execute_result"
    }
   ],
   "source": [
    "data_x['Level'] = data_x['Level'].replace(['A2/A2+', 'A2/A2+, B1', 'B1, B2'], ['A2', 'A2', 'B1'])\n",
    "data_x['Level'].unique()"
   ]
  },
  {
   "cell_type": "code",
   "execution_count": 10,
   "id": "306dc795",
   "metadata": {},
   "outputs": [
    {
     "name": "stderr",
     "output_type": "stream",
     "text": [
      "100%|████████████████████████████████████████████████████████████████████████████████| 241/241 [11:28<00:00,  2.86s/it]\n"
     ]
    }
   ],
   "source": [
    "subs2 = []\n",
    "for n in tqdm(range(len(data_x))):\n",
    "    if (data_x.loc[n][1]+'.srt') in os.listdir(os.getcwd() + '/Subtitles/'):\n",
    "        file = pysrt.open(os.getcwd() + '/Subtitles/' + data_x.loc[n][1] + '.srt', encoding='iso-8859-1').text\n",
    "        sub = sub_preprocess(file)\n",
    "        subs2.append((sub, data_x.loc[n][2]))"
   ]
  },
  {
   "cell_type": "code",
   "execution_count": 11,
   "id": "78f4dc17",
   "metadata": {},
   "outputs": [],
   "source": [
    "subs_xls = pd.DataFrame(subs2, columns=['subtitle', 'level'])"
   ]
  },
  {
   "cell_type": "code",
   "execution_count": 12,
   "id": "49e4cc85",
   "metadata": {
    "scrolled": true
   },
   "outputs": [
    {
     "data": {
      "text/plain": [
       "B1    45\n",
       "A2    30\n",
       "B2    29\n",
       "C1     6\n",
       "Name: level, dtype: int64"
      ]
     },
     "execution_count": 12,
     "metadata": {},
     "output_type": "execute_result"
    }
   ],
   "source": [
    "subs_xls['level'].value_counts()"
   ]
  },
  {
   "cell_type": "markdown",
   "id": "da2d673d",
   "metadata": {},
   "source": [
    "Здесь субтитров уровня А2 уже 30. Объединим данные:"
   ]
  },
  {
   "cell_type": "code",
   "execution_count": 13,
   "id": "d370a8a4",
   "metadata": {},
   "outputs": [
    {
     "data": {
      "text/html": [
       "<div>\n",
       "<style scoped>\n",
       "    .dataframe tbody tr th:only-of-type {\n",
       "        vertical-align: middle;\n",
       "    }\n",
       "\n",
       "    .dataframe tbody tr th {\n",
       "        vertical-align: top;\n",
       "    }\n",
       "\n",
       "    .dataframe thead th {\n",
       "        text-align: right;\n",
       "    }\n",
       "</style>\n",
       "<table border=\"1\" class=\"dataframe\">\n",
       "  <thead>\n",
       "    <tr style=\"text-align: right;\">\n",
       "      <th></th>\n",
       "      <th>subtitle</th>\n",
       "      <th>level</th>\n",
       "    </tr>\n",
       "  </thead>\n",
       "  <tbody>\n",
       "    <tr>\n",
       "      <th>0</th>\n",
       "      <td>little girl policeman little girl afraid okay ...</td>\n",
       "      <td>A2</td>\n",
       "    </tr>\n",
       "    <tr>\n",
       "      <th>1</th>\n",
       "      <td>merle right heard bitch get problem bring man ...</td>\n",
       "      <td>A2</td>\n",
       "    </tr>\n",
       "    <tr>\n",
       "      <th>2</th>\n",
       "      <td>nothing nothing always something dad teach tie...</td>\n",
       "      <td>A2</td>\n",
       "    </tr>\n",
       "    <tr>\n",
       "      <th>3</th>\n",
       "      <td>rick morgan know know hear maybe listen right ...</td>\n",
       "      <td>A2</td>\n",
       "    </tr>\n",
       "    <tr>\n",
       "      <th>4</th>\n",
       "      <td>hey hey whoa whoa whoa whoa please please help...</td>\n",
       "      <td>A2</td>\n",
       "    </tr>\n",
       "  </tbody>\n",
       "</table>\n",
       "</div>"
      ],
      "text/plain": [
       "                                            subtitle level\n",
       "0  little girl policeman little girl afraid okay ...    A2\n",
       "1  merle right heard bitch get problem bring man ...    A2\n",
       "2  nothing nothing always something dad teach tie...    A2\n",
       "3  rick morgan know know hear maybe listen right ...    A2\n",
       "4  hey hey whoa whoa whoa whoa please please help...    A2"
      ]
     },
     "metadata": {},
     "output_type": "display_data"
    }
   ],
   "source": [
    "subs_all = pd.concat([subs_folders, subs_xls]).reset_index(drop=True)\n",
    "display(subs_all.head())"
   ]
  },
  {
   "cell_type": "markdown",
   "id": "c6deb5c5",
   "metadata": {},
   "source": [
    "## Подготовка данных для обучения"
   ]
  },
  {
   "cell_type": "code",
   "execution_count": 14,
   "id": "5cb2124e",
   "metadata": {},
   "outputs": [
    {
     "data": {
      "text/plain": [
       "B2    136\n",
       "B1     62\n",
       "C1     39\n",
       "A2     35\n",
       "Name: level, dtype: int64"
      ]
     },
     "execution_count": 14,
     "metadata": {},
     "output_type": "execute_result"
    }
   ],
   "source": [
    "subs_all['level'].value_counts()"
   ]
  },
  {
   "cell_type": "markdown",
   "id": "f3097123",
   "metadata": {},
   "source": [
    "Поскольку модель будет предсказывать классы, для лучшей работы модели эти классы нужно сбалансировать. Самый простой способ в данном случае - выбрать только 40 субтитров из многочисленных классов B1 и B2:"
   ]
  },
  {
   "cell_type": "code",
   "execution_count": 15,
   "id": "abaa98a5",
   "metadata": {},
   "outputs": [],
   "source": [
    "subs_fin = pd.concat([subs_all[subs_all['level']=='A2'],\n",
    "                        subs_all[subs_all['level']=='B1'].sample(n=40, random_state=42),\n",
    "                            subs_all[subs_all['level']=='B2'].sample(n=40, random_state=42),\n",
    "                                subs_all[subs_all['level']=='C1']]).reset_index(drop=True)"
   ]
  },
  {
   "cell_type": "code",
   "execution_count": 16,
   "id": "9db9c349",
   "metadata": {},
   "outputs": [
    {
     "data": {
      "text/plain": [
       "B1    40\n",
       "B2    40\n",
       "C1    39\n",
       "A2    35\n",
       "Name: level, dtype: int64"
      ]
     },
     "execution_count": 16,
     "metadata": {},
     "output_type": "execute_result"
    }
   ],
   "source": [
    "subs_fin['level'].value_counts()"
   ]
  },
  {
   "cell_type": "markdown",
   "id": "a91330fe",
   "metadata": {},
   "source": [
    "Теперь количество субтитров различается не так сильно.\n",
    "\n",
    "Заменим классы числовыми значениями и разделим данные на выборки:"
   ]
  },
  {
   "cell_type": "code",
   "execution_count": 17,
   "id": "1eb6b886",
   "metadata": {},
   "outputs": [],
   "source": [
    "subs_levels = subs_fin['level'].replace(['A2', 'B1', 'B2', 'C1'], [0, 1, 2, 3])"
   ]
  },
  {
   "cell_type": "code",
   "execution_count": 18,
   "id": "220b83e5",
   "metadata": {},
   "outputs": [],
   "source": [
    "features_train, features_test, labels_train, labels_test = train_test_split(\n",
    "    subs_fin['subtitle'], subs_levels,\n",
    "    test_size=0.25, random_state=42, stratify=subs_levels)"
   ]
  },
  {
   "cell_type": "markdown",
   "id": "db6c8e73",
   "metadata": {},
   "source": [
    "Далее, чтобы модель могла работать с данными, их нужно превратить в числовые. Можно сделать это с помощью `TfidfVectorizer` - он поделит текст субтитров на отдельные слова, посчитает встречаемость каждого слова в каждом субтитре и посчитает встречаемость этого слова в субтитре по отношению к встречаемости в других субтитрах. \n",
    "Это позволит найти не просто количество слов, но еще и их важность - слова, встречающиеся в каждом субтитре не будут полезны для определения уровня языка, и им будет присвоен меньший вес."
   ]
  },
  {
   "cell_type": "code",
   "execution_count": 19,
   "id": "ec3b5c27",
   "metadata": {},
   "outputs": [],
   "source": [
    "tf = TfidfVectorizer(max_features=1500, min_df=0, max_df=0.7)"
   ]
  },
  {
   "cell_type": "code",
   "execution_count": 20,
   "id": "ae4b86ab",
   "metadata": {},
   "outputs": [],
   "source": [
    "tf.fit(features_train)\n",
    "features_train = tf.transform(features_train).toarray()\n",
    "features_test = tf.transform(features_test).toarray()"
   ]
  },
  {
   "cell_type": "code",
   "execution_count": 21,
   "id": "dcfa2139",
   "metadata": {},
   "outputs": [
    {
     "name": "stdout",
     "output_type": "stream",
     "text": [
      "[[0.         0.         0.         ... 0.         0.         0.        ]\n",
      " [0.         0.         0.         ... 0.01477576 0.04694658 0.        ]]\n",
      "[[0.         0.03223944 0.         ... 0.         0.0115183  0.        ]\n",
      " [0.         0.         0.         ... 0.         0.         0.        ]]\n"
     ]
    }
   ],
   "source": [
    "print(features_train[:2])\n",
    "print(features_test[:2])"
   ]
  },
  {
   "cell_type": "markdown",
   "id": "37b1b391",
   "metadata": {},
   "source": [
    "## Исследование данных"
   ]
  },
  {
   "cell_type": "markdown",
   "id": "c834f0eb",
   "metadata": {},
   "source": [
    "Каждому уровню сложности соответствует свой набор слов. На сайте [Oxford Learner's Dictionary](https://www.oxfordlearnersdictionaries.com/wordlists/oxford3000-5000) можно найти списки слов, размеченные по уровню знания языка. Для анализа будут использоваться два списка - American Oxford 3000 и 5000 by CEFR level.\n",
    "\n",
    "Откроем текстовые файлы со списками слов:"
   ]
  },
  {
   "cell_type": "code",
   "execution_count": 22,
   "id": "bcf83dd4",
   "metadata": {},
   "outputs": [
    {
     "data": {
      "text/html": [
       "<div>\n",
       "<style scoped>\n",
       "    .dataframe tbody tr th:only-of-type {\n",
       "        vertical-align: middle;\n",
       "    }\n",
       "\n",
       "    .dataframe tbody tr th {\n",
       "        vertical-align: top;\n",
       "    }\n",
       "\n",
       "    .dataframe thead th {\n",
       "        text-align: right;\n",
       "    }\n",
       "</style>\n",
       "<table border=\"1\" class=\"dataframe\">\n",
       "  <thead>\n",
       "    <tr style=\"text-align: right;\">\n",
       "      <th></th>\n",
       "      <th>words</th>\n",
       "      <th>level</th>\n",
       "    </tr>\n",
       "  </thead>\n",
       "  <tbody>\n",
       "    <tr>\n",
       "      <th>0</th>\n",
       "      <td>[ability, able, accept, accident, according, a...</td>\n",
       "      <td>A2</td>\n",
       "    </tr>\n",
       "    <tr>\n",
       "      <th>1</th>\n",
       "      <td>[absolutely, academic, access, account, achiev...</td>\n",
       "      <td>B1</td>\n",
       "    </tr>\n",
       "    <tr>\n",
       "      <th>2</th>\n",
       "      <td>[abandon, abroad, absolute, acceptable, accomp...</td>\n",
       "      <td>B2</td>\n",
       "    </tr>\n",
       "    <tr>\n",
       "      <th>3</th>\n",
       "      <td>[abolish, abortion, absence, absent, absurd, a...</td>\n",
       "      <td>C1</td>\n",
       "    </tr>\n",
       "  </tbody>\n",
       "</table>\n",
       "</div>"
      ],
      "text/plain": [
       "                                               words level\n",
       "0  [ability, able, accept, accident, according, a...    A2\n",
       "1  [absolutely, academic, access, account, achiev...    B1\n",
       "2  [abandon, abroad, absolute, acceptable, accomp...    B2\n",
       "3  [abolish, abortion, absence, absent, absurd, a...    C1"
      ]
     },
     "execution_count": 22,
     "metadata": {},
     "output_type": "execute_result"
    }
   ],
   "source": [
    "def re_dict(level):\n",
    "    return re.findall('[a-z]+', ' '.join(\\\n",
    "            re.findall(r'\\n[a-z]+', level)))\n",
    "oxford_ = []\n",
    "for cat in CATS:\n",
    "    level = re_dict(\\\n",
    "                open(os.getcwd() + '/' + cat + 'list.txt', 'r').read())\n",
    "    oxford_.append((level, cat))\n",
    "\n",
    "oxford_list = pd.DataFrame(oxford_, columns=['words', 'level'])\n",
    "oxford_list"
   ]
  },
  {
   "cell_type": "markdown",
   "id": "4227ecc2",
   "metadata": {},
   "source": [
    "Теперь можно узнать, сколько слов из каждого словаря находится в субтитрах, сколько есть уникальных слов или сколько слов в субтитрах вообще.         \n",
    "\n",
    "Найдем для каждого уровня языка субтитров среднее общее количество слов, вошедших в словарь, среднее количество уникальных слов из словаря, а также общее количество слов в субтитрах:"
   ]
  },
  {
   "cell_type": "code",
   "execution_count": 23,
   "id": "517ac8f8",
   "metadata": {},
   "outputs": [
    {
     "data": {
      "text/html": [
       "<div>\n",
       "<style scoped>\n",
       "    .dataframe tbody tr th:only-of-type {\n",
       "        vertical-align: middle;\n",
       "    }\n",
       "\n",
       "    .dataframe tbody tr th {\n",
       "        vertical-align: top;\n",
       "    }\n",
       "\n",
       "    .dataframe thead th {\n",
       "        text-align: right;\n",
       "    }\n",
       "</style>\n",
       "<table border=\"1\" class=\"dataframe\">\n",
       "  <thead>\n",
       "    <tr style=\"text-align: right;\">\n",
       "      <th></th>\n",
       "      <th>sub_level</th>\n",
       "      <th>dict_level</th>\n",
       "      <th>dict_words_sum</th>\n",
       "      <th>dict_words_uniq</th>\n",
       "      <th>sub_words_uniq</th>\n",
       "      <th>sub_words_total</th>\n",
       "    </tr>\n",
       "  </thead>\n",
       "  <tbody>\n",
       "    <tr>\n",
       "      <th>0</th>\n",
       "      <td>A2</td>\n",
       "      <td>A2</td>\n",
       "      <td>668.342857</td>\n",
       "      <td>209.342857</td>\n",
       "      <td>1036.057143</td>\n",
       "      <td>3846.342857</td>\n",
       "    </tr>\n",
       "    <tr>\n",
       "      <th>1</th>\n",
       "      <td>A2</td>\n",
       "      <td>B1</td>\n",
       "      <td>396.542857</td>\n",
       "      <td>127.571429</td>\n",
       "      <td>1036.057143</td>\n",
       "      <td>3846.342857</td>\n",
       "    </tr>\n",
       "    <tr>\n",
       "      <th>2</th>\n",
       "      <td>A2</td>\n",
       "      <td>B2</td>\n",
       "      <td>346.571429</td>\n",
       "      <td>129.514286</td>\n",
       "      <td>1036.057143</td>\n",
       "      <td>3846.342857</td>\n",
       "    </tr>\n",
       "    <tr>\n",
       "      <th>3</th>\n",
       "      <td>A2</td>\n",
       "      <td>C1</td>\n",
       "      <td>160.457143</td>\n",
       "      <td>53.800000</td>\n",
       "      <td>1036.057143</td>\n",
       "      <td>3846.342857</td>\n",
       "    </tr>\n",
       "    <tr>\n",
       "      <th>4</th>\n",
       "      <td>B1</td>\n",
       "      <td>A2</td>\n",
       "      <td>681.450000</td>\n",
       "      <td>222.050000</td>\n",
       "      <td>1111.500000</td>\n",
       "      <td>3805.100000</td>\n",
       "    </tr>\n",
       "    <tr>\n",
       "      <th>5</th>\n",
       "      <td>B1</td>\n",
       "      <td>B1</td>\n",
       "      <td>414.075000</td>\n",
       "      <td>141.400000</td>\n",
       "      <td>1111.500000</td>\n",
       "      <td>3805.100000</td>\n",
       "    </tr>\n",
       "    <tr>\n",
       "      <th>6</th>\n",
       "      <td>B1</td>\n",
       "      <td>B2</td>\n",
       "      <td>369.425000</td>\n",
       "      <td>145.100000</td>\n",
       "      <td>1111.500000</td>\n",
       "      <td>3805.100000</td>\n",
       "    </tr>\n",
       "    <tr>\n",
       "      <th>7</th>\n",
       "      <td>B1</td>\n",
       "      <td>C1</td>\n",
       "      <td>164.050000</td>\n",
       "      <td>56.350000</td>\n",
       "      <td>1111.500000</td>\n",
       "      <td>3805.100000</td>\n",
       "    </tr>\n",
       "    <tr>\n",
       "      <th>8</th>\n",
       "      <td>B2</td>\n",
       "      <td>A2</td>\n",
       "      <td>569.575000</td>\n",
       "      <td>198.875000</td>\n",
       "      <td>977.325000</td>\n",
       "      <td>3125.150000</td>\n",
       "    </tr>\n",
       "    <tr>\n",
       "      <th>9</th>\n",
       "      <td>B2</td>\n",
       "      <td>B1</td>\n",
       "      <td>359.175000</td>\n",
       "      <td>129.875000</td>\n",
       "      <td>977.325000</td>\n",
       "      <td>3125.150000</td>\n",
       "    </tr>\n",
       "    <tr>\n",
       "      <th>10</th>\n",
       "      <td>B2</td>\n",
       "      <td>B2</td>\n",
       "      <td>329.175000</td>\n",
       "      <td>133.075000</td>\n",
       "      <td>977.325000</td>\n",
       "      <td>3125.150000</td>\n",
       "    </tr>\n",
       "    <tr>\n",
       "      <th>11</th>\n",
       "      <td>B2</td>\n",
       "      <td>C1</td>\n",
       "      <td>153.150000</td>\n",
       "      <td>56.650000</td>\n",
       "      <td>977.325000</td>\n",
       "      <td>3125.150000</td>\n",
       "    </tr>\n",
       "    <tr>\n",
       "      <th>12</th>\n",
       "      <td>C1</td>\n",
       "      <td>A2</td>\n",
       "      <td>344.051282</td>\n",
       "      <td>124.846154</td>\n",
       "      <td>610.307692</td>\n",
       "      <td>1912.410256</td>\n",
       "    </tr>\n",
       "    <tr>\n",
       "      <th>13</th>\n",
       "      <td>C1</td>\n",
       "      <td>B1</td>\n",
       "      <td>216.871795</td>\n",
       "      <td>83.564103</td>\n",
       "      <td>610.307692</td>\n",
       "      <td>1912.410256</td>\n",
       "    </tr>\n",
       "    <tr>\n",
       "      <th>14</th>\n",
       "      <td>C1</td>\n",
       "      <td>B2</td>\n",
       "      <td>199.128205</td>\n",
       "      <td>83.358974</td>\n",
       "      <td>610.307692</td>\n",
       "      <td>1912.410256</td>\n",
       "    </tr>\n",
       "    <tr>\n",
       "      <th>15</th>\n",
       "      <td>C1</td>\n",
       "      <td>C1</td>\n",
       "      <td>98.435897</td>\n",
       "      <td>33.230769</td>\n",
       "      <td>610.307692</td>\n",
       "      <td>1912.410256</td>\n",
       "    </tr>\n",
       "  </tbody>\n",
       "</table>\n",
       "</div>"
      ],
      "text/plain": [
       "   sub_level dict_level  dict_words_sum  dict_words_uniq  sub_words_uniq  \\\n",
       "0         A2         A2      668.342857       209.342857     1036.057143   \n",
       "1         A2         B1      396.542857       127.571429     1036.057143   \n",
       "2         A2         B2      346.571429       129.514286     1036.057143   \n",
       "3         A2         C1      160.457143        53.800000     1036.057143   \n",
       "4         B1         A2      681.450000       222.050000     1111.500000   \n",
       "5         B1         B1      414.075000       141.400000     1111.500000   \n",
       "6         B1         B2      369.425000       145.100000     1111.500000   \n",
       "7         B1         C1      164.050000        56.350000     1111.500000   \n",
       "8         B2         A2      569.575000       198.875000      977.325000   \n",
       "9         B2         B1      359.175000       129.875000      977.325000   \n",
       "10        B2         B2      329.175000       133.075000      977.325000   \n",
       "11        B2         C1      153.150000        56.650000      977.325000   \n",
       "12        C1         A2      344.051282       124.846154      610.307692   \n",
       "13        C1         B1      216.871795        83.564103      610.307692   \n",
       "14        C1         B2      199.128205        83.358974      610.307692   \n",
       "15        C1         C1       98.435897        33.230769      610.307692   \n",
       "\n",
       "    sub_words_total  \n",
       "0       3846.342857  \n",
       "1       3846.342857  \n",
       "2       3846.342857  \n",
       "3       3846.342857  \n",
       "4       3805.100000  \n",
       "5       3805.100000  \n",
       "6       3805.100000  \n",
       "7       3805.100000  \n",
       "8       3125.150000  \n",
       "9       3125.150000  \n",
       "10      3125.150000  \n",
       "11      3125.150000  \n",
       "12      1912.410256  \n",
       "13      1912.410256  \n",
       "14      1912.410256  \n",
       "15      1912.410256  "
      ]
     },
     "execution_count": 23,
     "metadata": {},
     "output_type": "execute_result"
    }
   ],
   "source": [
    "dict_stats = []\n",
    "for i in CATS:\n",
    "    for j in oxford_list['level']:\n",
    "        sub_stats = []\n",
    "        for n in subs_fin[subs_fin['level'] == i]['subtitle']:\n",
    "            l = oxford_list[oxford_list['level']==j]['words'].values[0]\n",
    "            sb = [n]\n",
    "            \n",
    "            vb = CountVectorizer()\n",
    "            vb.fit(l)\n",
    "\n",
    "            # слова субтитров, имеющиеся в словаре\n",
    "            imp = list(filter(lambda count: count > 0, vb.transform(sb).toarray()[0]))\n",
    "            # уникальные слова в субтитрах\n",
    "            unique = len(np.unique(sb[0].split()))\n",
    "            # все слова в субтитрах\n",
    "            total = len(sb[0].split())\n",
    "\n",
    "            sub_stats.append([sum(imp), len(imp), unique, total])\n",
    "\n",
    "        stats = pd.DataFrame(sub_stats).mean().values\n",
    "        dict_stats.append([i, j, *stats])\n",
    "        \n",
    "stats_df = pd.DataFrame(dict_stats, columns=['sub_level', 'dict_level', 'dict_words_sum', 'dict_words_uniq',\n",
    "                                             'sub_words_uniq', 'sub_words_total'])\n",
    "stats_df"
   ]
  },
  {
   "cell_type": "markdown",
   "id": "3577b0b8",
   "metadata": {},
   "source": [
    "Получилать такая таблица. Значения отсортированы по уровню субтитров и в них, вроде бы, даже можно разобраться. Но всегда лучше построить график:"
   ]
  },
  {
   "cell_type": "code",
   "execution_count": 24,
   "id": "b415d39e",
   "metadata": {},
   "outputs": [
    {
     "data": {
      "image/png": "[encoded data removed]"
     },
     "metadata": {},
     "output_type": "display_data"
    }
   ],
   "source": [
    "fig = px.bar(stats_df, x=\"sub_level\", y=\"dict_words_sum\", height=400, width=800,\n",
    "             title='Среднее количество слов из словарей',\n",
    "             color='dict_level', barmode='group', labels={'dict_words_sum': ' ',\n",
    "                                                         'dict_level': 'Уровень языка словаря',\n",
    "                                                         'sub_level': 'Уровень языка субтитров'})\n",
    "fig.show('png')"
   ]
  },
  {
   "cell_type": "markdown",
   "id": "b8ecb491",
   "metadata": {},
   "source": [
    "Теперь наглядно видно, что, например, в субтитрах любого уровня обычно больше слов уровня А2. Слов уровня С1 обычно не больше 160 в любых субтитрах.\n",
    "\n",
    "Уровень языка субтитров, возможно, получится определить по разнице между количеством простых и сложных слов - чем меньше разница, тем сложнее фильм. Уровни А2 и В1, правда, при этом почти не отличить."
   ]
  },
  {
   "cell_type": "code",
   "execution_count": 25,
   "id": "2f091f85",
   "metadata": {},
   "outputs": [
    {
     "data": {
      "image/png": "[encoded data removed]"
     },
     "metadata": {},
     "output_type": "display_data"
    }
   ],
   "source": [
    "fig = px.bar(stats_df, x=\"sub_level\", y=\"dict_words_uniq\", height=400, width=800,\n",
    "             title='Среднее количество уникальных слов из словарей',\n",
    "             color='dict_level', barmode='group', labels={'dict_words_uniq': ' ',\n",
    "                                                         'dict_level': 'Уровень языка словаря',\n",
    "                                                         'sub_level': 'Уровень языка субтитров'})\n",
    "fig.show('png')"
   ]
  },
  {
   "cell_type": "markdown",
   "id": "ee95fe6e",
   "metadata": {},
   "source": [
    "С уникальными словами похожая ситуация - А2 и В1 очень похожи, уникальных слов из С1 обычно меньше всего в субтитрах, в любом фильме больше всего будет простых слов. Слова уровней В1 и В2 встречаются одинаково часто для каждого уровня субтитров."
   ]
  },
  {
   "cell_type": "code",
   "execution_count": 26,
   "id": "0a969575",
   "metadata": {},
   "outputs": [
    {
     "data": {
      "image/png": "[encoded data removed]",
      "text/plain": [
       "<Figure size 500x400 with 1 Axes>"
      ]
     },
     "metadata": {},
     "output_type": "display_data"
    }
   ],
   "source": [
    "stats_df[~stats_df.duplicated('sub_level')][['sub_level','sub_words_uniq', 'sub_words_total']]\\\n",
    "        .plot(x='sub_level', kind='bar', figsize=(5,4));"
   ]
  },
  {
   "cell_type": "markdown",
   "id": "da494b70",
   "metadata": {},
   "source": [
    "На этом графике - среднее количество всех слов и уникальных слов на субтитр. Уровни А2 и В1 снова похожи, в субтитрах уровня С1, несмотря на их сложность, найдено меньше всего слов."
   ]
  },
  {
   "cell_type": "markdown",
   "id": "9d9c4a3b",
   "metadata": {},
   "source": [
    "По количеству слов в словарях субтитры похожи. Единственная четкая зависимость - чем сложнее субтитр, тем меньше в нем было найдено слов."
   ]
  },
  {
   "cell_type": "markdown",
   "id": "1cb10303",
   "metadata": {},
   "source": [
    "## Обучение моделей"
   ]
  },
  {
   "cell_type": "markdown",
   "id": "bfe346d5",
   "metadata": {},
   "source": [
    "Обучим несколько моделей и посмотрим, как хорошо они смогут найти зависимости в этих данных."
   ]
  },
  {
   "cell_type": "markdown",
   "id": "d4c86e21",
   "metadata": {},
   "source": [
    "Первая модель - **случайный лес.** Она довольно простая и дает неплохие результаты. Поскольку мы решаем задачу с 4 классами, для улучшения качества можно попробовать обернуть лес в `OneVsRestClassifier`: этот классификатор строит базовую модель для каждого класса и сравнивает его с остальными классами. В нашем случае внутри \"Один-против-Всех\" модели будет 4 модели леса. Кросс-валидация и подбор параметров может занять много времени, но, может быть, это даст хорошую `accuracy`.\n",
    "\n",
    "Построим базовую модель:"
   ]
  },
  {
   "cell_type": "code",
   "execution_count": 27,
   "id": "ee199b99",
   "metadata": {},
   "outputs": [
    {
     "data": {
      "text/plain": [
       "0.6695906432748537"
      ]
     },
     "execution_count": 27,
     "metadata": {},
     "output_type": "execute_result"
    }
   ],
   "source": [
    "cross_validate(OneVsRestClassifier(RandomForestClassifier(random_state=42)),\n",
    "               X=features_train, y=labels_train, scoring='accuracy', cv=3)['test_score'].mean()"
   ]
  },
  {
   "cell_type": "markdown",
   "id": "612c7267",
   "metadata": {},
   "source": [
    "Аccuracy равна 0.66, неплохой результат. Подберем гиперпараметры:"
   ]
  },
  {
   "cell_type": "code",
   "execution_count": 28,
   "id": "e00611ce",
   "metadata": {},
   "outputs": [],
   "source": [
    "params_forest = {'estimator__n_estimators': list(range(5, 105, 25)),\n",
    "                 'estimator__max_depth': [3, 5, 7, 9]}\n",
    "\n",
    "forestgrid = GridSearchCV(estimator=OneVsRestClassifier(RandomForestClassifier(random_state=42)),\n",
    "                          param_grid=params_forest, scoring='accuracy', cv=3).fit(features_train, labels_train)"
   ]
  },
  {
   "cell_type": "code",
   "execution_count": 29,
   "id": "972f3fdd",
   "metadata": {},
   "outputs": [
    {
     "name": "stdout",
     "output_type": "stream",
     "text": [
      "0.6869095816464238\n",
      "{'estimator__max_depth': 7, 'estimator__n_estimators': 80}\n"
     ]
    }
   ],
   "source": [
    "print(forestgrid.best_score_)\n",
    "print(forestgrid.best_params_)"
   ]
  },
  {
   "cell_type": "markdown",
   "id": "e67dc3a0",
   "metadata": {},
   "source": [
    "Подбор занял больше времени, что неудивительно. Результат немного улучшился - accuracy теперь 0.68.\n",
    "\n",
    "Построим другую модель."
   ]
  },
  {
   "cell_type": "markdown",
   "id": "cb1dfb6d",
   "metadata": {},
   "source": [
    "      "
   ]
  },
  {
   "cell_type": "markdown",
   "id": "ceb1014f",
   "metadata": {},
   "source": [
    "Оценщик **SGDClassifier** собрал в себе несколько моделей линейной классификации, которые обучаются стохастическим градиентным спуском. Чтобы обучить другую модель, достаточно поменять функцию потерь. Но некоторые из моделей не предсказывают вероятности классов, которые в нашем случае будут полезны для интерпретации результата предсказания. Получить вероятности можно, обернув модели в `CalibratedClassifierCV` - калибровщик вероятностей. Он делит обучающие данные на фолды, обучает базовую модель на тренировочном, калибрует на тестовом, и выдает финальный оценщик. Этот оценщик - ансамбль из базовых моделей и их калибровщиков. Результат его работы - средняя вероятность классов, предсказанных ансамблем.\n",
    "\n",
    "Довольно сложно. Обучим базовую модель, проверим качество кросс-валидацией:"
   ]
  },
  {
   "cell_type": "code",
   "execution_count": 30,
   "id": "763e95ca",
   "metadata": {},
   "outputs": [
    {
     "data": {
      "text/plain": [
       "0.6601439496176338"
      ]
     },
     "execution_count": 30,
     "metadata": {},
     "output_type": "execute_result"
    }
   ],
   "source": [
    "cross_validate(CalibratedClassifierCV(SGDClassifier(random_state=42), cv=3),\n",
    "               X=features_train, y=labels_train, scoring='accuracy', cv=3)['test_score'].mean()"
   ]
  },
  {
   "cell_type": "markdown",
   "id": "c2a51f13",
   "metadata": {},
   "source": [
    "Несмотря на сложность модель обучается быстро. Результат похож на лес - accuracy равна 0.66. \n",
    "\n",
    "Подберем гиперпараметры. Один из них - функция потерь `loss` - будет менять модель целиком, от логистической регрессии до алгоритма SVM и перцептрона:"
   ]
  },
  {
   "cell_type": "code",
   "execution_count": 31,
   "id": "a89e5ebc",
   "metadata": {},
   "outputs": [],
   "source": [
    "params_sgd = {'estimator__loss':['hinge', 'log_loss', 'perceptron'],\n",
    "              'estimator__alpha': [0.01, 0.001, 0.0001, 0.00001],\n",
    "              'estimator__max_iter': [500, 1000, 2000, 3000, 4000]}\n",
    "\n",
    "sgdgrid = GridSearchCV(estimator=CalibratedClassifierCV(SGDClassifier(random_state=42), cv=3),\n",
    "                       param_grid=params_sgd, scoring='accuracy', cv=3).fit(features_train, labels_train)"
   ]
  },
  {
   "cell_type": "code",
   "execution_count": 32,
   "id": "6b1a6df8",
   "metadata": {},
   "outputs": [
    {
     "name": "stdout",
     "output_type": "stream",
     "text": [
      "0.7125506072874493\n",
      "{'estimator__alpha': 0.001, 'estimator__loss': 'perceptron', 'estimator__max_iter': 500}\n"
     ]
    }
   ],
   "source": [
    "print(sgdgrid.best_score_)\n",
    "print(sgdgrid.best_params_)"
   ]
  },
  {
   "cell_type": "markdown",
   "id": "1c04c6b0",
   "metadata": {},
   "source": [
    "Лучшая точность получилась у модели с функцией потерь `perceptron` - 0.71."
   ]
  },
  {
   "cell_type": "markdown",
   "id": "97b06840",
   "metadata": {},
   "source": [
    "## Тест модели"
   ]
  },
  {
   "cell_type": "markdown",
   "id": "bdf6f0cc",
   "metadata": {},
   "source": [
    "Протестируем модель с лучшей метрикой."
   ]
  },
  {
   "cell_type": "code",
   "execution_count": 33,
   "id": "8b824fb8",
   "metadata": {},
   "outputs": [
    {
     "data": {
      "text/plain": [
       "0.717948717948718"
      ]
     },
     "execution_count": 33,
     "metadata": {},
     "output_type": "execute_result"
    }
   ],
   "source": [
    "sgdgrid.best_estimator_.fit(features_train, labels_train)\n",
    "\n",
    "pred = sgdgrid.best_estimator_.predict(features_test)\n",
    "accuracy_score(labels_test, pred)"
   ]
  },
  {
   "cell_type": "markdown",
   "id": "3e735750",
   "metadata": {},
   "source": [
    "Аccuracy не ухудшилась, даже стала лучше на 0.005 - 0.717."
   ]
  },
  {
   "cell_type": "code",
   "execution_count": 36,
   "id": "fc0c7f04",
   "metadata": {},
   "outputs": [
    {
     "data": {
      "image/png": "[encoded data removed]",
      "text/plain": [
       "<Figure size 640x480 with 2 Axes>"
      ]
     },
     "metadata": {},
     "output_type": "display_data"
    }
   ],
   "source": [
    "cm = confusion_matrix(labels_test, pred)\n",
    "cmp = ConfusionMatrixDisplay(cm, display_labels = sgdgrid.best_estimator_.classes_)\n",
    "cmp.plot();"
   ]
  },
  {
   "cell_type": "markdown",
   "id": "19d7081d",
   "metadata": {},
   "source": [
    "Матрица ошибок показывает, что модель очень любит предсказывать класс 1, он же В1, и не любит предсказывать класс 0, он же А2.       \n",
    "С классами 2 и 3 таких проблем нет.\n",
    "\n",
    "Действительно, из анализа субтитров можно вспомнить, что в количестве слов определенного уровня для субтитров А2 и В1 большой разницы не было. Сложность фильмов с такими субтитрами можно легко спутать, если не учитывать другие особенности языка - может, фразы и речевые конструкции или даже скорость речи. А может для обучения просто нужна была выборка больше, чем 120 субтитров. Скорее всего - все вместе."
   ]
  },
  {
   "cell_type": "markdown",
   "id": "f88c59df",
   "metadata": {},
   "source": [
    "## Итоги"
   ]
  },
  {
   "cell_type": "markdown",
   "id": "bbe0a014",
   "metadata": {},
   "source": [
    "Исследование закончено. Лучшая найденная модель - откалиброванный `SGDClassifier` с алгоритмом `perceptron` - показывает `accuracy` равную 0.717 на тестовой выборке.\n",
    "\n",
    "Из исследования данных видно, что:\n",
    "- слов из С1 в субтитрах всегда меньше;\n",
    "- в любом фильме простых слов будет больше;\n",
    "- количество слов разных уровней в фильмах А2 и В1 почти одинаково;\n",
    "- слова уровней В1 и В2 встречаются одинаково часто для каждого уровня субтитров;\n",
    "- чем сложнее субтитр, тем меньше в нем определяется слов.\n",
    "\n",
    "Для выполнения работы были изучены основные принципы обработки языка - стемминг, лемматизация, модель мешка слов и TF-IDF.      \n",
    "Большую часть времени выполнения тетрадки заняла загрузка и обработка файлов - лемматизация с правильными тегами частей речи слов оказалась затратным по вычислениям процессом. Для улучшения качества предсказания можно было бы добавить данных, но тогда, наверное, пришлось бы выбрать другой способ приведения слов к основе. Можно было бы также добавить признаков - например, скорость речи, количество слов, отношение уникальных слов ко всем."
   ]
  },
  {
   "cell_type": "markdown",
   "id": "9d9a8e16",
   "metadata": {},
   "source": [
    "Цель проекта - разработать ML решение для предсказания уровня языка фильма - почти достигнута. Осталось только развернуть приложение, которым можно было бы пользоваться. Для работы приложения нужны будут модель, TF-IDF трансформер для обработки субтитров и словарь с уровнями. Также можно сохранить таблицу со статистикой по субтитрам - возможно пользователям будет интересно сравнить информацию о загруженном субтитре с другими такого же уровня.\n",
    "\n",
    "Сохраним нужные объекты в файлы:"
   ]
  },
  {
   "cell_type": "code",
   "execution_count": 37,
   "id": "74ace0c1",
   "metadata": {},
   "outputs": [],
   "source": [
    "with open('model.pickle', 'wb') as f:\n",
    "    pickle.dump(sgdgrid.best_estimator_, f, pickle.HIGHEST_PROTOCOL)\n",
    "    \n",
    "with open('vectorizer.pickle', 'wb') as f:\n",
    "    pickle.dump(tf, f, pickle.HIGHEST_PROTOCOL)\n",
    "    \n",
    "with open('wordlist.pickle', 'wb') as f:\n",
    "    pickle.dump(oxford_list, f, pickle.HIGHEST_PROTOCOL)\n",
    "    \n",
    "with open('stats.pickle', 'wb') as f:\n",
    "    pickle.dump(stats_df, f, pickle.HIGHEST_PROTOCOL)"
   ]
  }
 ],
 "metadata": {
  "kernelspec": {
   "display_name": "Python 3 (ipykernel)",
   "language": "python",
   "name": "python3"
  },
  "language_info": {
   "codemirror_mode": {
    "name": "ipython",
    "version": 3
   },
   "file_extension": ".py",
   "mimetype": "text/x-python",
   "name": "python",
   "nbconvert_exporter": "python",
   "pygments_lexer": "ipython3",
   "version": "3.8.1"
  }
 },
 "nbformat": 4,
 "nbformat_minor": 5
}
